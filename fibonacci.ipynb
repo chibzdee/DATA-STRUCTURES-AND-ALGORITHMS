{
 "cells": [
  {
   "cell_type": "markdown",
   "metadata": {},
   "source": [
    "The first two fibonacci numbers are 0 and 1, and the next fibonacci numbers are the sum of the two previous numbers, so we get 0, 1, 1, 2, 3, 5, 8, 13,......"
   ]
  },
  {
   "cell_type": "markdown",
   "metadata": {},
   "source": [
    "        2 variables to hold the first two fibonacci numbers\n",
    "        A for loop that runs 18 times\n",
    "        Create new fibonacci numbers by adding the two previous ones\n",
    "        Print the new fibonacci number\n",
    "        Update the variables that hold the first two fibonacci numbers"
   ]
  },
  {
   "cell_type": "code",
   "execution_count": 2,
   "metadata": {},
   "outputs": [
    {
     "name": "stdout",
     "output_type": "stream",
     "text": [
      "0\n",
      "1\n",
      "1\n",
      "2\n",
      "3\n",
      "5\n",
      "8\n",
      "13\n",
      "21\n",
      "34\n",
      "55\n",
      "89\n",
      "144\n",
      "233\n",
      "377\n",
      "610\n",
      "987\n",
      "1597\n",
      "2584\n",
      "4181\n"
     ]
    }
   ],
   "source": [
    "################################### USING A FOR LOOP #################################\n",
    "\n",
    "prev2 = 0\n",
    "prev1 = 1\n",
    "\n",
    "print(prev2)\n",
    "print(prev1)\n",
    "\n",
    "for fibo in range(18):\n",
    "    newfibo = prev1 + prev2\n",
    "    print(newfibo)\n",
    "    prev2 = prev1\n",
    "    prev1 = newfibo"
   ]
  },
  {
   "cell_type": "code",
   "execution_count": 4,
   "metadata": {},
   "outputs": [
    {
     "name": "stdout",
     "output_type": "stream",
     "text": [
      "0\n",
      "1\n",
      "1\n",
      "2\n",
      "3\n",
      "5\n",
      "8\n",
      "13\n",
      "21\n",
      "34\n",
      "55\n",
      "89\n",
      "144\n",
      "233\n",
      "377\n",
      "610\n",
      "987\n",
      "1597\n",
      "2584\n",
      "4181\n"
     ]
    }
   ],
   "source": [
    "################################### USING RECURSION #################################\n",
    "\n",
    "print(0)\n",
    "print(1)\n",
    "count = 2\n",
    "\n",
    "def fibonacci(prev1, prev2):\n",
    "    global count\n",
    "    if count <=19:\n",
    "        newfibo = prev1 + prev2\n",
    "        print(newfibo)\n",
    "        prev2 = prev1\n",
    "        prev1 = newfibo\n",
    "        count += 1\n",
    "        fibonacci(prev1, prev2)\n",
    "    else:\n",
    "        return \n",
    "    \n",
    "\n",
    "fibonacci(1, 0)"
   ]
  },
  {
   "cell_type": "code",
   "execution_count": 10,
   "metadata": {},
   "outputs": [
    {
     "data": {
      "text/plain": [
       "4181"
      ]
     },
     "execution_count": 10,
     "metadata": {},
     "output_type": "execute_result"
    }
   ],
   "source": [
    "################################### FINDING THE nth FIBONACCI NUMBER USING RECURSION #################################\n",
    "\n",
    "def f(n):\n",
    "    if n <= 1:\n",
    "        return n\n",
    "    else:        \n",
    "        return f(n-1) + f(n-2)\n",
    "\n",
    "f(19)"
   ]
  },
  {
   "cell_type": "code",
   "execution_count": null,
   "metadata": {},
   "outputs": [],
   "source": []
  }
 ],
 "metadata": {
  "kernelspec": {
   "display_name": "Python 3",
   "language": "python",
   "name": "python3"
  },
  "language_info": {
   "codemirror_mode": {
    "name": "ipython",
    "version": 3
   },
   "file_extension": ".py",
   "mimetype": "text/x-python",
   "name": "python",
   "nbconvert_exporter": "python",
   "pygments_lexer": "ipython3",
   "version": "3.10.6"
  }
 },
 "nbformat": 4,
 "nbformat_minor": 2
}
